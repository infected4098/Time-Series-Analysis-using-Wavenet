{
  "cells": [
    {
      "cell_type": "code",
      "execution_count": 1,
      "metadata": {
        "colab": {
          "base_uri": "https://localhost:8080/"
        },
        "id": "WUk1rX0PSvFI",
        "outputId": "ad109a1f-05c3-430a-d100-57b20f13db76"
      },
      "outputs": [
        {
          "output_type": "stream",
          "name": "stdout",
          "text": [
            "Mounted at /content/drive\n"
          ]
        }
      ],
      "source": [
        "from google.colab import drive\n",
        "drive.mount('/content/drive')"
      ]
    },
    {
      "cell_type": "code",
      "execution_count": 5,
      "metadata": {
        "id": "DjQDZQx7XfCw"
      },
      "outputs": [],
      "source": [
        "import numpy as np\n",
        "import pandas as pd\n",
        "from sklearn.model_selection import train_test_split\n",
        "from tensorflow.keras.models import Model\n",
        "from tensorflow.keras.layers import Input, Conv1D, Activation, Add, Multiply\n",
        "from tensorflow.keras.optimizers import Adam\n",
        "from sklearn.preprocessing import MinMaxScaler\n",
        "from sklearn.metrics import mean_absolute_percentage_error"
      ]
    },
    {
      "cell_type": "code",
      "source": [
        "import pandas as pd\n",
        "data = pd.read_csv('/content/drive/MyDrive/full_df.csv')"
      ],
      "metadata": {
        "id": "0bYx-dFnHktu"
      },
      "execution_count": 7,
      "outputs": []
    },
    {
      "cell_type": "code",
      "execution_count": 8,
      "metadata": {
        "id": "n5Q5xwKFYGM_"
      },
      "outputs": [],
      "source": [
        "target_column = '현재수요(MW)'\n",
        "\n",
        "data.set_index('기준일시',inplace=True)\n",
        "\n",
        "features = data.drop(columns=[target_column])\n",
        "target = data[target_column]"
      ]
    },
    {
      "cell_type": "code",
      "execution_count": 9,
      "metadata": {
        "id": "9Wq7QLAZXpzw"
      },
      "outputs": [],
      "source": [
        "scaler = MinMaxScaler()\n",
        "features = scaler.fit_transform(features)\n",
        "X_train, X_test, y_train, y_test = train_test_split(features, target, test_size=0.2, shuffle=False)"
      ]
    },
    {
      "cell_type": "code",
      "execution_count": 10,
      "metadata": {
        "id": "5ezazjvqYfYg"
      },
      "outputs": [],
      "source": [
        "#input shape: temporal dimensioni of data\n",
        "#Dilated Causal Convolution Layer: capture temporal dependencies at different time scales\n",
        "def wavenet(input_shape, num_filters, num_layers, dilation_rates):\n",
        "    inputs = Input(shape=input_shape)\n",
        "    \n",
        "    skips = []\n",
        "    x = inputs\n",
        "    for dilation_rate in dilation_rates:\n",
        "      #causal: model does not have access to future information during training and inference\n",
        "        x = Conv1D(filters=num_filters, kernel_size=2, dilation_rate=dilation_rate, padding='causal')(x)\n",
        "        tanh_out = Activation('tanh')(x)\n",
        "        sigmoid_out = Activation('sigmoid')(x)\n",
        "        x = Multiply()([tanh_out, sigmoid_out])\n",
        "        x = Conv1D(filters=num_filters, kernel_size=1, padding='causal')(x)\n",
        "        skips.append(x)\n",
        "        x = Add()(skips)\n",
        "        # capture both local and global dependencies in the data\n",
        "    \n",
        "    x = Activation('relu')(x)\n",
        "    x = Conv1D(filters=num_filters, kernel_size=1)(x)\n",
        "    x = Activation('relu')(x)\n",
        "    x = Conv1D(filters=num_filters, kernel_size=1)(x)\n",
        "    outputs = Conv1D(filters=1, kernel_size=1)(x)\n",
        "\n",
        "    model = Model(inputs=inputs, outputs=outputs)\n",
        "    return model"
      ]
    },
    {
      "cell_type": "code",
      "execution_count": 11,
      "metadata": {
        "colab": {
          "base_uri": "https://localhost:8080/"
        },
        "id": "LDvCYGxNYkrS",
        "outputId": "349cdadf-1749-427e-eb65-138b26542d0a"
      },
      "outputs": [
        {
          "output_type": "stream",
          "name": "stdout",
          "text": [
            "Model: \"model\"\n",
            "__________________________________________________________________________________________________\n",
            " Layer (type)                   Output Shape         Param #     Connected to                     \n",
            "==================================================================================================\n",
            " input_1 (InputLayer)           [(None, 52, 1)]      0           []                               \n",
            "                                                                                                  \n",
            " conv1d (Conv1D)                (None, 52, 9)        27          ['input_1[0][0]']                \n",
            "                                                                                                  \n",
            " activation (Activation)        (None, 52, 9)        0           ['conv1d[0][0]']                 \n",
            "                                                                                                  \n",
            " activation_1 (Activation)      (None, 52, 9)        0           ['conv1d[0][0]']                 \n",
            "                                                                                                  \n",
            " multiply (Multiply)            (None, 52, 9)        0           ['activation[0][0]',             \n",
            "                                                                  'activation_1[0][0]']           \n",
            "                                                                                                  \n",
            " conv1d_1 (Conv1D)              (None, 52, 9)        90          ['multiply[0][0]']               \n",
            "                                                                                                  \n",
            " add (Add)                      (None, 52, 9)        0           ['conv1d_1[0][0]']               \n",
            "                                                                                                  \n",
            " conv1d_2 (Conv1D)              (None, 52, 9)        171         ['add[0][0]']                    \n",
            "                                                                                                  \n",
            " activation_2 (Activation)      (None, 52, 9)        0           ['conv1d_2[0][0]']               \n",
            "                                                                                                  \n",
            " activation_3 (Activation)      (None, 52, 9)        0           ['conv1d_2[0][0]']               \n",
            "                                                                                                  \n",
            " multiply_1 (Multiply)          (None, 52, 9)        0           ['activation_2[0][0]',           \n",
            "                                                                  'activation_3[0][0]']           \n",
            "                                                                                                  \n",
            " conv1d_3 (Conv1D)              (None, 52, 9)        90          ['multiply_1[0][0]']             \n",
            "                                                                                                  \n",
            " add_1 (Add)                    (None, 52, 9)        0           ['conv1d_1[0][0]',               \n",
            "                                                                  'conv1d_3[0][0]']               \n",
            "                                                                                                  \n",
            " conv1d_4 (Conv1D)              (None, 52, 9)        171         ['add_1[0][0]']                  \n",
            "                                                                                                  \n",
            " activation_4 (Activation)      (None, 52, 9)        0           ['conv1d_4[0][0]']               \n",
            "                                                                                                  \n",
            " activation_5 (Activation)      (None, 52, 9)        0           ['conv1d_4[0][0]']               \n",
            "                                                                                                  \n",
            " multiply_2 (Multiply)          (None, 52, 9)        0           ['activation_4[0][0]',           \n",
            "                                                                  'activation_5[0][0]']           \n",
            "                                                                                                  \n",
            " conv1d_5 (Conv1D)              (None, 52, 9)        90          ['multiply_2[0][0]']             \n",
            "                                                                                                  \n",
            " add_2 (Add)                    (None, 52, 9)        0           ['conv1d_1[0][0]',               \n",
            "                                                                  'conv1d_3[0][0]',               \n",
            "                                                                  'conv1d_5[0][0]']               \n",
            "                                                                                                  \n",
            " activation_6 (Activation)      (None, 52, 9)        0           ['add_2[0][0]']                  \n",
            "                                                                                                  \n",
            " conv1d_6 (Conv1D)              (None, 52, 9)        90          ['activation_6[0][0]']           \n",
            "                                                                                                  \n",
            " activation_7 (Activation)      (None, 52, 9)        0           ['conv1d_6[0][0]']               \n",
            "                                                                                                  \n",
            " conv1d_7 (Conv1D)              (None, 52, 9)        90          ['activation_7[0][0]']           \n",
            "                                                                                                  \n",
            " conv1d_8 (Conv1D)              (None, 52, 1)        10          ['conv1d_7[0][0]']               \n",
            "                                                                                                  \n",
            "==================================================================================================\n",
            "Total params: 829\n",
            "Trainable params: 829\n",
            "Non-trainable params: 0\n",
            "__________________________________________________________________________________________________\n"
          ]
        }
      ],
      "source": [
        "input_shape = (X_train.shape[1], 1)\n",
        "num_filters = 9 #변경가능\n",
        "num_layers = 3 #변경가능\n",
        "dilation_rates = [2**i for i in range(num_layers)]\n",
        "\n",
        "model = wavenet(input_shape, num_filters, num_layers, dilation_rates)\n",
        "model.summary()\n",
        "\n",
        "model.compile(optimizer=Adam(), loss='mean_absolute_percentage_error')"
      ]
    },
    {
      "cell_type": "code",
      "execution_count": 13,
      "metadata": {
        "colab": {
          "base_uri": "https://localhost:8080/"
        },
        "id": "fWmFqTc_YxOI",
        "outputId": "8f23daa7-f6b8-4682-dafe-2715d669b4d2"
      },
      "outputs": [
        {
          "output_type": "stream",
          "name": "stderr",
          "text": [
            "\r  0%|          | 0/1 [00:00<?, ?it/s]"
          ]
        },
        {
          "output_type": "stream",
          "name": "stdout",
          "text": [
            "Epoch 1/1\n",
            "6470/6470 [==============================] - 20s 3ms/step\n"
          ]
        },
        {
          "output_type": "stream",
          "name": "stderr",
          "text": [
            "100%|██████████| 1/1 [07:14<00:00, 434.57s/it]"
          ]
        },
        {
          "output_type": "stream",
          "name": "stdout",
          "text": [
            "Mean Absolute Percentage Error (MAPE): 0.1202409602408508\n"
          ]
        },
        {
          "output_type": "stream",
          "name": "stderr",
          "text": [
            "\n"
          ]
        }
      ],
      "source": [
        "# Training loop\n",
        "from tqdm import tqdm\n",
        "num_epochs = 1 #변경가능\n",
        "batch_size = 32 #변경가능\n",
        "num_batches = len(X_train) // batch_size\n",
        "for epoch in tqdm(range(num_epochs)):\n",
        "    print(f\"Epoch {epoch+1}/{num_epochs}\")\n",
        "    \n",
        "    # Shuffle data before each epoch\n",
        "    indices = np.random.permutation(len(X_train))\n",
        "    shuffled_X_train = X_train[indices]\n",
        "    shuffled_y_train = y_train[indices]\n",
        "    \n",
        "    # Mini-batch training\n",
        "    for batch in range(num_batches):\n",
        "        start = batch * batch_size\n",
        "        end = start + batch_size\n",
        "        \n",
        "        batch_X = np.expand_dims(shuffled_X_train[start:end], axis=-1)\n",
        "        batch_y = shuffled_y_train[start:end]\n",
        "        \n",
        "        # Train model on current batch\n",
        "        model.train_on_batch(batch_X, batch_y)\n",
        "        \n",
        "    # Evaluate model on test set\n",
        "    test_X = np.expand_dims(X_test, axis=-1)\n",
        "    predictions = model.predict(test_X)\n",
        "    \n",
        "    # Flatten predictions and y_test arrays\n",
        "    predictions = predictions.flatten()\n",
        "    y_test = y_test.to_numpy().flatten()\n",
        "\n",
        "    predictions = predictions[:len(y_test)]\n",
        "    mape = mean_absolute_percentage_error(y_test, predictions)\n",
        "\n",
        "    print(\"Mean Absolute Percentage Error (MAPE):\", mape)"
      ]
    },
    {
      "cell_type": "code",
      "execution_count": 14,
      "metadata": {
        "id": "aFakvgIrXZcM",
        "colab": {
          "base_uri": "https://localhost:8080/"
        },
        "outputId": "e6da6110-4b2e-4713-dde6-f9c039e23241"
      },
      "outputs": [
        {
          "output_type": "execute_result",
          "data": {
            "text/plain": [
              "0.1202409602408508"
            ]
          },
          "metadata": {},
          "execution_count": 14
        }
      ],
      "source": [
        "mape"
      ]
    }
  ],
  "metadata": {
    "colab": {
      "provenance": []
    },
    "kernelspec": {
      "display_name": "Python 3",
      "name": "python3"
    },
    "language_info": {
      "name": "python"
    }
  },
  "nbformat": 4,
  "nbformat_minor": 0
}